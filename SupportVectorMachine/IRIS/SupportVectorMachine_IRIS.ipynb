{
 "cells": [
  {
   "cell_type": "markdown",
   "id": "0fc1048c",
   "metadata": {},
   "source": [
    "# Installations"
   ]
  },
  {
   "cell_type": "code",
   "execution_count": 48,
   "id": "2a7753c0",
   "metadata": {},
   "outputs": [],
   "source": [
    "# May need to uncomment to install scikit-learn (sklearn)\n",
    "#!pip install scikit-learn==0.23.1"
   ]
  },
  {
   "cell_type": "code",
   "execution_count": 49,
   "id": "653f804e",
   "metadata": {},
   "outputs": [],
   "source": [
    "import pandas as pd\n",
    "import pylab as pl\n",
    "import numpy as np\n",
    "import scipy.optimize as opt\n",
    "from sklearn import preprocessing\n",
    "from sklearn.model_selection import train_test_split\n",
    "%matplotlib inline \n",
    "import matplotlib.pyplot as plt"
   ]
  },
  {
   "cell_type": "markdown",
   "id": "7dcf8ef2",
   "metadata": {},
   "source": [
    "# Load in Data"
   ]
  },
  {
   "cell_type": "code",
   "execution_count": 50,
   "id": "e490adcd",
   "metadata": {},
   "outputs": [],
   "source": [
    "import csv\n",
    "\n",
    "# name of file\n",
    "filename = \"iris.data\"\n",
    "\n",
    "# read in csv\n",
    "pdf = pd.read_csv(filename, index_col=False)\n",
    "\n",
    "# create dataframe\n",
    "dataframe = pdf.to_numpy()\n",
    "pdf = pd.DataFrame(dataframe)\n",
    "pdf.rename(columns={0: 'sepal_length', 1: 'sepal_width', 2 : 'petal_length', 3 : 'petal_width', 4 : 'class'}, inplace=True)\n",
    "\n",
    "# create dataframe of features (X) and classes (y)\n",
    "X = pdf[['sepal_length', 'sepal_width', 'petal_length', 'petal_width']].values\n",
    "y = pdf[['class']]\n",
    "\n",
    "# create array of features\n",
    "features = pdf.columns\n",
    "\n",
    "# create array of classes\n",
    "classes = pdf['class'].unique()"
   ]
  },
  {
   "cell_type": "markdown",
   "id": "59652107",
   "metadata": {},
   "source": [
    "# Familiarizing Ourselves With The Data\n",
    "\n",
    "One important aspect of utilizing Machine Learning to solve a problem, is finding out if the problem can be solved in a more linear way with classical programming. In the case of the Iris dataset, we can ask ourselves can we just look at two measurements and always be able to clearly see that a given plant is Iris-virginica, Iris-setosa, or Iris-versicolor? So, let's take a peek at our data in a graphed form, graphed below with a set feature on the x and y axis (which you are encouraged to switch and tinker around with!)."
   ]
  },
  {
   "cell_type": "code",
   "execution_count": 51,
   "id": "100d4d39",
   "metadata": {},
   "outputs": [
    {
     "data": {
      "image/png": "[encoded data removed]",
      "text/plain": [
       "<Figure size 432x288 with 1 Axes>"
      ]
     },
     "metadata": {
      "needs_background": "light"
     },
     "output_type": "display_data"
    }
   ],
   "source": [
    "# resizing the figure - in (inches,inches)\n",
    "figure_size = (8,8)\n",
    "\n",
    "# setting the feature used on the x and y axis\n",
    "feature_x = features[2]\n",
    "feature_y = features[1]\n",
    "\n",
    "# graphing all data points by color of iris type\n",
    "ax = pdf[pdf['class'] == classes[0]][0:50].plot(kind='scatter', x=feature_x, y=feature_y, color='DarkBlue', label=classes[0]);\n",
    "pdf[pdf['class'] == classes[1]][0:50].plot(kind='scatter', x=feature_x, y=feature_y, color='Yellow', label=classes[1], ax=ax);\n",
    "pdf[pdf['class'] == classes[2]][0:50].plot(kind='scatter', x=feature_x, y=feature_y, color='Green', label=classes[2], ax=ax);\n",
    "plt.show()"
   ]
  },
  {
   "cell_type": "markdown",
   "id": "2848a4b8",
   "metadata": {},
   "source": [
    "In the pursuit of familiarizing ourselves with our data, we now see that we are dealing with a complex issue with no clear classical solution, but the data does seem to be clumped together quite neatly when graphing by certain features (SWEET!). Let's go one step further and examine our features closer, and see what data types each feature is."
   ]
  },
  {
   "cell_type": "code",
   "execution_count": 52,
   "id": "545881bf",
   "metadata": {},
   "outputs": [
    {
     "data": {
      "text/plain": [
       "sepal_length    object\n",
       "sepal_width     object\n",
       "petal_length    object\n",
       "petal_width     object\n",
       "class           object\n",
       "dtype: object"
      ]
     },
     "execution_count": 52,
     "metadata": {},
     "output_type": "execute_result"
    }
   ],
   "source": [
    "pdf.dtypes"
   ]
  },
  {
   "cell_type": "markdown",
   "id": "571f0b02",
   "metadata": {},
   "source": [
    "For a number of machine learning algorithms, it is essential to have numerical (int, float, double) features and class data. We see that we have only object data types in our data. This is not great for analysis, so we will now substitute numerical values for our variables below."
   ]
  },
  {
   "cell_type": "code",
   "execution_count": 61,
   "id": "ff53296f",
   "metadata": {},
   "outputs": [],
   "source": [
    "# setting all numeric values from string to double is not a problem\n",
    "pdf[features[0]] = pdf[features[0]].astype('double')\n",
    "pdf[features[1]] = pdf[features[1]].astype('double')\n",
    "pdf[features[2]] = pdf[features[2]].astype('double')\n",
    "pdf[features[3]] = pdf[features[3]].astype('double')\n",
    "\n",
    "# setting each class value to a numeric value\n",
    "pdf.loc[pdf['class'] == 'Iris-setosa', 'class'] = 0\n",
    "pdf.loc[pdf['class'] == 'Iris-versicolor', 'class'] = 1\n",
    "pdf.loc[pdf['class'] == 'Iris-virginica', 'class'] = 2\n",
    "\n",
    "# setting data type of the classes to int\n",
    "pdf['class'] = pdf['class'].astype('int')"
   ]
  },
  {
   "cell_type": "markdown",
   "id": "62777320",
   "metadata": {},
   "source": [
    "We are now at the point to start setting up our datasets to soon split them into train and test. For this, we will have X and y, X denoting the features of all rows and y denoting the class of each of the rows."
   ]
  },
  {
   "cell_type": "code",
   "execution_count": 62,
   "id": "1d2baa55",
   "metadata": {},
   "outputs": [
    {
     "name": "stdout",
     "output_type": "stream",
     "text": [
      "(149, 4)\n",
      "(149,)\n"
     ]
    }
   ],
   "source": [
    "# creating X as an array of all features of all rows\n",
    "feature_df = pdf[[features[0], features[1], features[2], features[3]]]\n",
    "X = np.asarray(feature_df)\n",
    "\n",
    "# creating y as an array of the class value of all rows\n",
    "y = np.asarray(pdf['class'])\n",
    "\n",
    "# printing to ensure that X and y are over the same number of rows (the first number must be the same for each shape)\n",
    "print(X.shape)\n",
    "print(y.shape)"
   ]
  },
  {
   "cell_type": "markdown",
   "id": "56d28b4c",
   "metadata": {},
   "source": [
    "# Splitting Data into Training and Testing sets\n",
    "\n",
    "We will now split our data into training and testing sets. The training set will be used to train our model and the testing set will be used to test the accuracy of our model.\n",
    "\n",
    "NOTE: test_size is the argument pertaining to the proportion of our dataset used for testing our model, but when set equal to 1, it uses only one row for testing."
   ]
  },
  {
   "cell_type": "code",
   "execution_count": 67,
   "id": "2ffc6712",
   "metadata": {},
   "outputs": [
    {
     "name": "stdout",
     "output_type": "stream",
     "text": [
      "Train set: (119, 4) (119,)\n",
      "Test set: (30, 4) (30,)\n"
     ]
    }
   ],
   "source": [
    "# creating a training proportion of \n",
    "X_train, X_test, y_train, y_test = train_test_split( X, y, test_size=.2, random_state=2)\n",
    "\n",
    "# let's print out the shapes of the training set and the testing set\n",
    "print ('Train set:', X_train.shape,  y_train.shape)\n",
    "print ('Test set:', X_test.shape,  y_test.shape)"
   ]
  },
  {
   "cell_type": "markdown",
   "id": "ba55bf2b",
   "metadata": {},
   "source": [
    "Let us now create the Support Vector Machine and fit our model"
   ]
  },
  {
   "cell_type": "code",
   "execution_count": 57,
   "id": "556ffe50",
   "metadata": {},
   "outputs": [
    {
     "data": {
      "text/plain": [
       "SVC()"
      ]
     },
     "execution_count": 57,
     "metadata": {},
     "output_type": "execute_result"
    }
   ],
   "source": [
    "from sklearn import svm\n",
    "clf = svm.SVC(kernel='rbf')\n",
    "clf.fit(X_train, y_train) "
   ]
  },
  {
   "cell_type": "markdown",
   "id": "089085be",
   "metadata": {},
   "source": [
    "Just as in statistics, yhat is a prediction of what the testset is going to be. Here it will show an array of all predictions from our test set."
   ]
  },
  {
   "cell_type": "code",
   "execution_count": 58,
   "id": "3de9b737",
   "metadata": {},
   "outputs": [
    {
     "data": {
      "text/plain": [
       "array([2, 0, 0, 0, 2])"
      ]
     },
     "execution_count": 58,
     "metadata": {},
     "output_type": "execute_result"
    }
   ],
   "source": [
    "yhat = clf.predict(X_test)\n",
    "yhat [0:5]"
   ]
  },
  {
   "cell_type": "markdown",
   "id": "e213a336",
   "metadata": {},
   "source": [
    "Here is a function defined to construct a confusion matrix"
   ]
  },
  {
   "cell_type": "code",
   "execution_count": 59,
   "id": "32d17d7a",
   "metadata": {},
   "outputs": [],
   "source": [
    "from sklearn.metrics import classification_report, confusion_matrix\n",
    "import itertools\n",
    "\n",
    "def plot_confusion_matrix(cm, classes,\n",
    "                          normalize=False,\n",
    "                          title='Confusion matrix',\n",
    "                          cmap=plt.cm.Blues):\n",
    "    \"\"\"\n",
    "    This function prints and plots the confusion matrix.\n",
    "    Normalization can be applied by setting `normalize=True`.\n",
    "    \"\"\"\n",
    "    if normalize:\n",
    "        cm = cm.astype('float') / cm.sum(axis=1)[:, np.newaxis]\n",
    "        print(\"Normalized confusion matrix\")\n",
    "    else:\n",
    "        print('Confusion matrix, without normalization')\n",
    "\n",
    "    print(cm)\n",
    "\n",
    "    plt.imshow(cm, interpolation='nearest', cmap=cmap)\n",
    "    plt.title(title)\n",
    "    plt.colorbar()\n",
    "    tick_marks = np.arange(len(classes))\n",
    "    plt.xticks(tick_marks, classes, rotation=45)\n",
    "    plt.yticks(tick_marks, classes)\n",
    "\n",
    "    fmt = '.2f' if normalize else 'd'\n",
    "    thresh = cm.max() / 2.\n",
    "    for i, j in itertools.product(range(cm.shape[0]), range(cm.shape[1])):\n",
    "        plt.text(j, i, format(cm[i, j], fmt),\n",
    "                 horizontalalignment=\"center\",\n",
    "                 color=\"white\" if cm[i, j] > thresh else \"black\")\n",
    "\n",
    "    plt.tight_layout()\n",
    "    plt.ylabel('True label')\n",
    "    plt.xlabel('Predicted label')"
   ]
  },
  {
   "cell_type": "markdown",
   "id": "2607041f",
   "metadata": {},
   "source": [
    "# Results\n",
    "\n",
    "The Confusion Matrix is a powerful analysis tool used to determine the accuracy of a model in detail. On the x-axis is the model's predicted label and on the y-axis is the true label, as determined by our data.\n",
    "\n",
    "Thus, the confusion matrix can be viewed as a grid, where the top left, middle, and bottom right boxes are when the predicted label agrees with the true label (i.e. top left = \"the plant was predicted to be Iris-virginica and the plant was Iris-virginica\", middle = \"the plant was predicted to be Iris-setosa and the plant was Iris-setosa\", and bottom right = \"the plant was predicted to be Iris-versicolor and the plant was Iris-versicolor\").\n",
    "\n",
    "All other boxes display when the predicted label does NOT agree with the true label (i.e. bottom left = \"the plant was predicted to be Iris-virginica and the plant was Iris-versicolor\", bottom middle = \"the plant was predicted to be Iris-setosa and the plant was Iris-versicolor\", etc.)."
   ]
  },
  {
   "cell_type": "code",
   "execution_count": 68,
   "id": "d5e37e8b",
   "metadata": {},
   "outputs": [
    {
     "name": "stdout",
     "output_type": "stream",
     "text": [
      "              precision    recall  f1-score   support\n",
      "\n",
      "           0       1.00      1.00      1.00        12\n",
      "           1       1.00      0.89      0.94         9\n",
      "           2       0.90      1.00      0.95         9\n",
      "\n",
      "    accuracy                           0.97        30\n",
      "   macro avg       0.97      0.96      0.96        30\n",
      "weighted avg       0.97      0.97      0.97        30\n",
      "\n",
      "Confusion matrix, without normalization\n",
      "[[12  0  0]\n",
      " [ 0  8  1]\n",
      " [ 0  0  9]]\n"
     ]
    },
    {
     "data": {
      "image/png": "[encoded data removed]",
      "text/plain": [
       "<Figure size 432x288 with 2 Axes>"
      ]
     },
     "metadata": {
      "needs_background": "light"
     },
     "output_type": "display_data"
    }
   ],
   "source": [
    "# Compute confusion matrix\n",
    "cnf_matrix = confusion_matrix(y_test, yhat, labels=[0,1,2])\n",
    "np.set_printoptions(precision=2)\n",
    "\n",
    "print (classification_report(y_test, yhat))\n",
    "\n",
    "plt.figure()\n",
    "plot_confusion_matrix(cnf_matrix, classes=['Iris-virginica','Iris-setosa','Iris-versicolor'],normalize= False,  title='Confusion matrix')"
   ]
  },
  {
   "cell_type": "markdown",
   "id": "52812de8",
   "metadata": {},
   "source": [
    "# Analysis\n",
    "\n",
    "So how did our model work? Well, looking at the confusion matrix above, we can see that our model correctly identified all but 1 instance! This instance was predicted to be Iris-versicolor by our model, however it was actually Iris-setosa. Feel free to tinker around with the code, testing size, etc to see if you can prove authorship of other texts in the dataset!"
   ]
  }
 ],
 "metadata": {
  "kernelspec": {
   "display_name": "Python 3",
   "language": "python",
   "name": "python3"
  },
  "language_info": {
   "codemirror_mode": {
    "name": "ipython",
    "version": 3
   },
   "file_extension": ".py",
   "mimetype": "text/x-python",
   "name": "python",
   "nbconvert_exporter": "python",
   "pygments_lexer": "ipython3",
   "version": "3.8.8"
  }
 },
 "nbformat": 4,
 "nbformat_minor": 5
}
