{
 "cells": [
  {
   "cell_type": "markdown",
   "id": "0fc1048c",
   "metadata": {},
   "source": [
    "# Installations"
   ]
  },
  {
   "cell_type": "code",
   "execution_count": 8,
   "id": "2a7753c0",
   "metadata": {},
   "outputs": [],
   "source": [
    "# May need to uncomment to install scikit-learn (sklearn)\n",
    "#!pip install scikit-learn==0.23.1"
   ]
  },
  {
   "cell_type": "code",
   "execution_count": 9,
   "id": "653f804e",
   "metadata": {},
   "outputs": [],
   "source": [
    "import pandas as pd\n",
    "import pylab as pl\n",
    "import numpy as np\n",
    "import scipy.optimize as opt\n",
    "from sklearn import preprocessing\n",
    "from sklearn.model_selection import train_test_split\n",
    "%matplotlib inline \n",
    "import matplotlib.pyplot as plt"
   ]
  },
  {
   "cell_type": "markdown",
   "id": "7dcf8ef2",
   "metadata": {},
   "source": [
    "# Load in Data"
   ]
  },
  {
   "cell_type": "code",
   "execution_count": 10,
   "id": "e490adcd",
   "metadata": {},
   "outputs": [
    {
     "data": {
      "text/plain": [
       "[['NotPoe'],\n",
       " ['NotPoe'],\n",
       " ['NotPoe'],\n",
       " ['NotPoe'],\n",
       " ['NotPoe'],\n",
       " ['NotPoe'],\n",
       " ['NotPoe'],\n",
       " ['NotPoe'],\n",
       " ['NotPoe'],\n",
       " ['NotPoe'],\n",
       " ['NotPoe'],\n",
       " ['NotPoe'],\n",
       " ['NotPoe'],\n",
       " ['NotPoe'],\n",
       " ['NotPoe'],\n",
       " ['NotPoe'],\n",
       " ['NotPoe'],\n",
       " ['NotPoe'],\n",
       " ['NotPoe'],\n",
       " ['NotPoe'],\n",
       " ['NotPoe'],\n",
       " ['NotPoe'],\n",
       " ['NotPoe'],\n",
       " ['NotPoe'],\n",
       " ['NotPoe'],\n",
       " ['NotPoe'],\n",
       " ['NotPoe'],\n",
       " ['NotPoe'],\n",
       " ['NotPoe'],\n",
       " ['NotPoe'],\n",
       " ['NotPoe'],\n",
       " ['NotPoe'],\n",
       " ['NotPoe'],\n",
       " ['NotPoe'],\n",
       " ['NotPoe'],\n",
       " ['NotPoe'],\n",
       " ['NotPoe'],\n",
       " ['NotPoe'],\n",
       " ['NotPoe'],\n",
       " ['NotPoe'],\n",
       " ['NotPoe'],\n",
       " ['NotPoe'],\n",
       " ['NotPoe'],\n",
       " ['NotPoe'],\n",
       " ['NotPoe'],\n",
       " ['NotPoe'],\n",
       " ['NotPoe'],\n",
       " ['NotPoe'],\n",
       " ['NotPoe'],\n",
       " ['NotPoe'],\n",
       " ['NotPoe'],\n",
       " ['NotPoe'],\n",
       " ['NotPoe'],\n",
       " ['NotPoe'],\n",
       " ['NotPoe'],\n",
       " ['NotPoe'],\n",
       " ['NotPoe'],\n",
       " ['NotPoe'],\n",
       " ['NotPoe'],\n",
       " ['Poe'],\n",
       " ['Poe'],\n",
       " ['Poe'],\n",
       " ['Poe'],\n",
       " ['Poe'],\n",
       " ['Poe'],\n",
       " ['Poe'],\n",
       " ['Poe'],\n",
       " ['Poe'],\n",
       " ['Poe'],\n",
       " ['Poe'],\n",
       " ['Poe'],\n",
       " ['Poe'],\n",
       " ['Poe'],\n",
       " ['Poe'],\n",
       " ['Poe'],\n",
       " ['NotPoe'],\n",
       " ['NotPoe'],\n",
       " ['NotPoe'],\n",
       " ['NotPoe'],\n",
       " ['NotPoe'],\n",
       " ['NotPoe'],\n",
       " ['NotPoe'],\n",
       " ['NotPoe'],\n",
       " ['NotPoe'],\n",
       " ['NotPoe'],\n",
       " ['UNKNOWN']]"
      ]
     },
     "execution_count": 10,
     "metadata": {},
     "output_type": "execute_result"
    }
   ],
   "source": [
    "import csv\n",
    "import re\n",
    "\n",
    "# name of file\n",
    "filename = \"Poe_NotPoe_50words.csv\"\n",
    "\n",
    "# read in csv\n",
    "pdf = pd.read_csv(filename, index_col=None)\n",
    "pdf = pdf.drop([0,1])\n",
    "pdf.rename(columns={'Unnamed: 0' : 'class'}, inplace=True)\n",
    "pdf.reset_index(inplace=True, drop=True)\n",
    "\n",
    "# create array of features\n",
    "features = pdf.columns\n",
    "features = features[1:]\n",
    "\n",
    "# create dataframe of features (X) and classes (y)\n",
    "X = pdf[features].values\n",
    "y = pdf['class'].values\n",
    "classes = []\n",
    "num_elements = 0\n",
    "for row in pdf['class']:\n",
    "    classes.append(re.sub(\"_.+\",'',row))\n",
    "    num_elements += 1\n",
    "    \n",
    "y = pd.DataFrame(y)\n",
    "y = y.values.tolist()\n",
    "uniqueClasses = []\n",
    "for each in classes:\n",
    "    if each not in uniqueClasses:\n",
    "        uniqueClasses.append(each)\n",
    "y"
   ]
  },
  {
   "cell_type": "markdown",
   "id": "59652107",
   "metadata": {},
   "source": [
    "# Familiarizing Ourselves With The Data\n",
    "\n",
    "One important aspect of utilizing Machine Learning to solve a problem, is finding out if the problem can be solved in a more linear way with classical programming. In the case of the Poe dataset, we can ask ourselves can we just look at two words and always be able to clearly see that a given text is written by Poe or not? So, let's take a peek at our data in a graphed form, graphed below with a set feature on the x and y axis (which you are encouraged to switch and tinker around with!)."
   ]
  },
  {
   "cell_type": "code",
   "execution_count": 11,
   "id": "100d4d39",
   "metadata": {},
   "outputs": [
    {
     "data": {
      "image/png": "[encoded data removed]",
      "text/plain": [
       "<Figure size 576x576 with 1 Axes>"
      ]
     },
     "metadata": {
      "needs_background": "light"
     },
     "output_type": "display_data"
    }
   ],
   "source": [
    "# resizing the figure - in (inches,inches)\n",
    "figure_size = (8,8)\n",
    "\n",
    "# setting the feature used on the x and y axis\n",
    "feature_x = features[2]\n",
    "feature_y = features[3]\n",
    "\n",
    "# creating an array to force the color of the data points to correlate to their class (Poe, NotPoe, UNKNOWN)\n",
    "colorArray = pd.DataFrame(y)\n",
    "colorArray.loc[pdf['class'] == 'NotPoe', 'class'] = \"DarkBlue\"\n",
    "colorArray.loc[pdf['class'] == 'Poe', 'class'] = \"Green\"\n",
    "colorArray.loc[pdf['class'] == 'UNKNOWN', 'class'] = \"Red\"\n",
    "colorArray = colorArray.drop(columns=[0])\n",
    "colorArray = colorArray.values.tolist()\n",
    "\n",
    "# sneaky way of making it so only unique labels are created in legend\n",
    "label = \"\"\n",
    "legendMade = []\n",
    "ax = pdf[pdf['class'] == classes[0]][0:86].plot(figsize=figure_size, kind='scatter', x=feature_x, y=feature_y, color=colorArray[0], label=classes[0]);\n",
    "legendMade.append(classes[0])\n",
    "for eachClass in range(len(classes)-1):\n",
    "    if classes[eachClass+1] not in legendMade:\n",
    "        label = classes[eachClass+1]\n",
    "        legendMade.append(classes[eachClass+1])\n",
    "        pdf[pdf['class'] == classes[eachClass+1]][0:86].plot(figsize=figure_size,kind='scatter', x=feature_x, y=feature_y, color=colorArray[eachClass+1], ax=ax, label=label);\n",
    "    else:\n",
    "        label = ''\n",
    "        pdf[pdf['class'] == classes[eachClass+1]][0:86].plot(figsize=figure_size,kind='scatter', x=feature_x, y=feature_y, color=colorArray[eachClass+1], ax=ax);\n",
    "\n",
    "# show the plot\n",
    "plt.show()"
   ]
  },
  {
   "cell_type": "markdown",
   "id": "f9744627",
   "metadata": {},
   "source": [
    "In the pursuit of familiarizing ourselves with our data, we now see that we are dealing with a complex issue with no clear classical solution. Let's go one step further and examine our features closer, and see what data types each feature is."
   ]
  },
  {
   "cell_type": "code",
   "execution_count": 12,
   "id": "545881bf",
   "metadata": {},
   "outputs": [
    {
     "data": {
      "text/plain": [
       "class     object\n",
       "all      float64\n",
       "an       float64\n",
       "and      float64\n",
       "as       float64\n",
       "at       float64\n",
       "be       float64\n",
       "been     float64\n",
       "but      float64\n",
       "by       float64\n",
       "for      float64\n",
       "from     float64\n",
       "had      float64\n",
       "i        float64\n",
       "if       float64\n",
       "in       float64\n",
       "into     float64\n",
       "is       float64\n",
       "it       float64\n",
       "its      float64\n",
       "not      float64\n",
       "now      float64\n",
       "one      float64\n",
       "own      float64\n",
       "so       float64\n",
       "some     float64\n",
       "still    float64\n",
       "such     float64\n",
       "than     float64\n",
       "that     float64\n",
       "then     float64\n",
       "there    float64\n",
       "these    float64\n",
       "to       float64\n",
       "upon     float64\n",
       "was      float64\n",
       "were     float64\n",
       "when     float64\n",
       "which    float64\n",
       "who      float64\n",
       "with     float64\n",
       "dtype: object"
      ]
     },
     "execution_count": 12,
     "metadata": {},
     "output_type": "execute_result"
    }
   ],
   "source": [
    "pdf.dtypes"
   ]
  },
  {
   "cell_type": "markdown",
   "id": "ff600fc7",
   "metadata": {},
   "source": [
    "For a number of machine learning algorithms, it is essential to have numerical (int, float, double) features and class data. We see that we have only float based data in all of our features, BUT our classes are objects. This is not great for analysis, so we will now substitute numerical values for our class variables below."
   ]
  },
  {
   "cell_type": "code",
   "execution_count": 13,
   "id": "ff53296f",
   "metadata": {},
   "outputs": [
    {
     "name": "stdout",
     "output_type": "stream",
     "text": [
      "    class     all  ...     who    with\n",
      "0       1  0.0144  ...  0.0095  0.0380\n",
      "1       1  0.0195  ...  0.0122  0.0437\n",
      "2       1  0.0171  ...  0.0099  0.0414\n",
      "3       1  0.0187  ...  0.0181  0.0366\n",
      "4       1  0.0168  ...  0.0162  0.0381\n",
      "5       1  0.0094  ...  0.0109  0.0496\n",
      "6       1  0.0141  ...  0.0109  0.0432\n",
      "7       1  0.0135  ...  0.0130  0.0272\n",
      "8       1  0.0143  ...  0.0121  0.0329\n",
      "9       1  0.0115  ...  0.0141  0.0504\n",
      "10      1  0.0175  ...  0.0121  0.0245\n",
      "11      1  0.0154  ...  0.0127  0.0268\n",
      "12      1  0.0194  ...  0.0166  0.0288\n",
      "13      1  0.0092  ...  0.0059  0.0320\n",
      "14      1  0.0083  ...  0.0062  0.0288\n",
      "15      1  0.0078  ...  0.0086  0.0351\n",
      "16      1  0.0082  ...  0.0053  0.0309\n",
      "17      1  0.0087  ...  0.0188  0.0371\n",
      "18      1  0.0088  ...  0.0163  0.0447\n",
      "19      1  0.0066  ...  0.0150  0.0359\n",
      "20      1  0.0115  ...  0.0171  0.0412\n",
      "21      1  0.0193  ...  0.0134  0.0273\n",
      "22      1  0.0192  ...  0.0105  0.0237\n",
      "23      1  0.0133  ...  0.0164  0.0368\n",
      "24      1  0.0118  ...  0.0176  0.0341\n",
      "25      1  0.0175  ...  0.0064  0.0229\n",
      "26      1  0.0169  ...  0.0104  0.0239\n",
      "27      1  0.0178  ...  0.0062  0.0219\n",
      "28      1  0.0171  ...  0.0077  0.0236\n",
      "29      1  0.0227  ...  0.0074  0.0239\n",
      "30      1  0.0207  ...  0.0098  0.0370\n",
      "31      1  0.0143  ...  0.0069  0.0331\n",
      "32      1  0.0160  ...  0.0067  0.0371\n",
      "33      1  0.0145  ...  0.0114  0.0380\n",
      "34      1  0.0120  ...  0.0092  0.0438\n",
      "35      1  0.0137  ...  0.0096  0.0417\n",
      "36      1  0.0112  ...  0.0131  0.0501\n",
      "37      1  0.0090  ...  0.0125  0.0430\n",
      "38      1  0.0127  ...  0.0067  0.0361\n",
      "39      1  0.0126  ...  0.0074  0.0343\n",
      "40      1  0.0159  ...  0.0058  0.0416\n",
      "41      1  0.0162  ...  0.0096  0.0442\n",
      "42      1  0.0171  ...  0.0081  0.0473\n",
      "43      1  0.0156  ...  0.0097  0.0444\n",
      "44      1  0.0179  ...  0.0112  0.0434\n",
      "45      1  0.0185  ...  0.0185  0.0382\n",
      "46      1  0.0175  ...  0.0142  0.0473\n",
      "47      1  0.0167  ...  0.0112  0.0462\n",
      "48      1  0.0135  ...  0.0130  0.0264\n",
      "49      1  0.0150  ...  0.0187  0.0275\n",
      "50      1  0.0157  ...  0.0093  0.0637\n",
      "51      1  0.0183  ...  0.0081  0.0672\n",
      "52      1  0.0132  ...  0.0118  0.0357\n",
      "53      1  0.0117  ...  0.0102  0.0357\n",
      "54      1  0.0074  ...  0.0116  0.0302\n",
      "55      1  0.0158  ...  0.0124  0.0399\n",
      "56      1  0.0289  ...  0.0065  0.0327\n",
      "57      1  0.0214  ...  0.0097  0.0386\n",
      "58      1  0.0187  ...  0.0075  0.0383\n",
      "59      2  0.0210  ...  0.0109  0.0356\n",
      "60      2  0.0091  ...  0.0011  0.0317\n",
      "61      2  0.0048  ...  0.0048  0.0304\n",
      "62      2  0.0111  ...  0.0030  0.0232\n",
      "63      2  0.0149  ...  0.0032  0.0320\n",
      "64      2  0.0152  ...  0.0195  0.0282\n",
      "65      2  0.0140  ...  0.0094  0.0449\n",
      "66      2  0.0158  ...  0.0076  0.0456\n",
      "67      2  0.0162  ...  0.0162  0.0399\n",
      "68      2  0.0152  ...  0.0061  0.0427\n",
      "69      2  0.0245  ...  0.0035  0.0298\n",
      "70      2  0.0153  ...  0.0153  0.0153\n",
      "71      2  0.0109  ...  0.0087  0.0525\n",
      "72      2  0.0262  ...  0.0030  0.0272\n",
      "73      2  0.0181  ...  0.0181  0.0233\n",
      "74      2  0.0081  ...  0.0020  0.0302\n",
      "75      1  0.0174  ...  0.0071  0.0292\n",
      "76      1  0.0146  ...  0.0151  0.0379\n",
      "77      1  0.0196  ...  0.0100  0.0260\n",
      "78      1  0.0160  ...  0.0136  0.0302\n",
      "79      1  0.0096  ...  0.0170  0.0385\n",
      "80      1  0.0094  ...  0.0158  0.0394\n",
      "81      1  0.0126  ...  0.0142  0.0383\n",
      "82      1  0.0109  ...  0.0163  0.0357\n",
      "83      1  0.0178  ...  0.0143  0.0303\n",
      "84      1  0.0109  ...  0.0172  0.0272\n",
      "85      2  0.0033  ...  0.0067  0.0300\n",
      "\n",
      "[86 rows x 41 columns]\n"
     ]
    }
   ],
   "source": [
    "# locating each variable value in pdf['class'] and assigning it a numerical value\n",
    "pdf.loc[pdf['class'] == 'NotPoe', 'class'] = 1\n",
    "pdf.loc[pdf['class'] == 'Poe', 'class'] = 2\n",
    "# setting unknown to our \"guess\", so that analysis will give a \"right\"/\"wrong\" answer\n",
    "pdf.loc[pdf['class'] == 'UNKNOWN', 'class'] = 2\n",
    "\n",
    "# setting the data type of the classes to int\n",
    "pdf['class'] = pdf['class'].astype('int')\n",
    "\n",
    "# printing all rows in order to make sure changes were made correctly to all classes\n",
    "with pd.option_context('display.max_rows', None, 'display.max_columns', 4):  # see all rows, only 4 columns\n",
    "    print(pdf)"
   ]
  },
  {
   "cell_type": "markdown",
   "id": "34e85c9b",
   "metadata": {},
   "source": [
    "We are now at the point to start setting up our datasets to soon split them into train and test. For this, we will have X and y, X denoting the features of all rows and y denoting the class of each of the rows."
   ]
  },
  {
   "cell_type": "code",
   "execution_count": 14,
   "id": "8dcc7e9a",
   "metadata": {},
   "outputs": [
    {
     "name": "stdout",
     "output_type": "stream",
     "text": [
      "(86, 40)\n",
      "(86,)\n"
     ]
    }
   ],
   "source": [
    "# creating X as an array of all features of all rows\n",
    "feature_df = pdf[[features[0], features[1], features[2], features[3], features[4], features[5], features[6], features[7], features[8], features[9], features[10], features[11], features[12], features[13], features[14], features[15], features[16], features[17], features[18], features[19], features[20], features[21], features[22], features[23], features[24], features[25], features[26], features[27], features[28], features[29], features[30], features[31], features[32], features[33], features[34], features[35], features[36], features[37], features[38], features[39]]]\n",
    "X = np.asarray(feature_df)\n",
    "\n",
    "# creating y as an array of the class value of all rows\n",
    "y = np.asarray(pdf['class'])\n",
    "\n",
    "# printing to ensure that X and y are over the same number of rows (the first number must be the same for each shape)\n",
    "print(X.shape)\n",
    "print(y.shape)"
   ]
  },
  {
   "cell_type": "markdown",
   "id": "56d28b4c",
   "metadata": {},
   "source": [
    "# Splitting Data into Training and Testing sets\n",
    "\n",
    "We will now split our data into training and testing sets. The training set will be used to train our model and the testing set will be used to test the accuracy of our model.\n",
    "\n",
    "NOTE: For this example, we are overriding the standard of randomly selecting testing and training sets from our data to use only the last row of the data for a testing set and setting the entirity of the rest of our data to be the training set. In practice, test_size will most likely not be equal to 1, such that you are training AND training the model with a significant proportion of your data. The argument test_size is the proportion of your data used for the testing of the model, but when set equal to 1, it uses only one row for testing."
   ]
  },
  {
   "cell_type": "code",
   "execution_count": 15,
   "id": "2ffc6712",
   "metadata": {},
   "outputs": [
    {
     "name": "stdout",
     "output_type": "stream",
     "text": [
      "Train set: (84, 40) (84,)\n",
      "Test set: (1, 40) (1,)\n"
     ]
    }
   ],
   "source": [
    "\n",
    "# for this example, we ensure that the training set is comprised of all but the last row of data (UNKNOWN row)\n",
    "X_trainset, X_testset, y_trainset, y_testset = train_test_split(X[0:85], y[0:85], test_size=1, random_state=0)\n",
    "\n",
    "# for this example, we override the randomly selected test sets so that we are testing with only the UNKNOWN row\n",
    "X_testset = X[85:86]\n",
    "y_testset = y[85:86]\n",
    "\n",
    "# let's print out the shapes of the training set and the testing set\n",
    "print ('Train set:', X_trainset.shape,  y_trainset.shape)\n",
    "print ('Test set:', X_testset.shape,  y_testset.shape)"
   ]
  },
  {
   "cell_type": "markdown",
   "id": "56488607",
   "metadata": {},
   "source": [
    "Let us now create the Support Vector Machine and fit our model"
   ]
  },
  {
   "cell_type": "code",
   "execution_count": 16,
   "id": "556ffe50",
   "metadata": {},
   "outputs": [
    {
     "data": {
      "text/plain": [
       "SVC()"
      ]
     },
     "execution_count": 16,
     "metadata": {},
     "output_type": "execute_result"
    }
   ],
   "source": [
    "from sklearn import svm\n",
    "clf = svm.SVC(kernel='rbf')\n",
    "clf.fit(X_trainset, y_trainset) "
   ]
  },
  {
   "cell_type": "markdown",
   "id": "c71cbdc7",
   "metadata": {},
   "source": [
    "Just as in statistics, yhat is a prediction of what the testset is going to be. Here it will show an array of all predictions from our test set."
   ]
  },
  {
   "cell_type": "code",
   "execution_count": 17,
   "id": "3de9b737",
   "metadata": {},
   "outputs": [
    {
     "data": {
      "text/plain": [
       "array([2])"
      ]
     },
     "execution_count": 17,
     "metadata": {},
     "output_type": "execute_result"
    }
   ],
   "source": [
    "# create predictions on the testset\n",
    "yhat = clf.predict(X_testset)\n",
    "\n",
    "# print first few predictions\n",
    "yhat [0:5]"
   ]
  },
  {
   "cell_type": "markdown",
   "id": "37071d60",
   "metadata": {},
   "source": [
    "Here is a function defined to construct a confusion matrix"
   ]
  },
  {
   "cell_type": "code",
   "execution_count": 18,
   "id": "32d17d7a",
   "metadata": {},
   "outputs": [],
   "source": [
    "from sklearn.metrics import classification_report, confusion_matrix\n",
    "import itertools\n",
    "\n",
    "def plot_confusion_matrix(cm, classes,\n",
    "                          normalize=False,\n",
    "                          title='Confusion matrix',\n",
    "                          cmap=plt.cm.Blues):\n",
    "    \"\"\"\n",
    "    This function prints and plots the confusion matrix.\n",
    "    Normalization can be applied by setting `normalize=True`.\n",
    "    \"\"\"\n",
    "    if normalize:\n",
    "        cm = cm.astype('float') / cm.sum(axis=1)[:, np.newaxis]\n",
    "        print(\"Normalized confusion matrix\")\n",
    "    else:\n",
    "        print('Confusion matrix, without normalization')\n",
    "\n",
    "    print(cm)\n",
    "\n",
    "    plt.imshow(cm, interpolation='nearest', cmap=cmap)\n",
    "    plt.title(title)\n",
    "    plt.colorbar()\n",
    "    tick_marks = np.arange(len(classes))\n",
    "\n",
    "    plt.xticks(tick_marks, classes)\n",
    "    plt.yticks(tick_marks, classes)\n",
    "    fmt = '.2f' if normalize else 'd'\n",
    "    thresh = cm.max() / 2.\n",
    "    for i, j in itertools.product(range(cm.shape[0]), range(cm.shape[1])):\n",
    "        plt.text(j, i, format(cm[i, j], fmt),\n",
    "                 horizontalalignment=\"center\",\n",
    "                 color=\"white\" if cm[i, j] > thresh else \"black\")\n",
    "\n",
    "    plt.tight_layout()\n",
    "    plt.ylabel('True label')\n",
    "    plt.xlabel('Predicted label')\n"
   ]
  },
  {
   "cell_type": "markdown",
   "id": "fb25713b",
   "metadata": {},
   "source": [
    "# Results\n",
    "\n",
    "The Confusion Matrix is a powerful analysis tool used to determine the accuracy of a model in detail. On the x-axis is the model's predicted label and on the y-axis is the true label, as determined by our data.\n",
    "\n",
    "Thus, the top left and bottom right boxes show when the true label agrees with the predicted label (i.e. top left = \"the text was predicted to have been written by Poe and the text was written by Poe\" and bottom right = \"the text was predicted to have not been written by Poe and the text was not written by Poe\").\n",
    "\n",
    "The top right and bottom left boxes display when the predicted label does NOT agree with the true label (i.e. top right = \"the text was predicted to have not been written by Poe and the text was written by Poe\" and bottom right = \"the text was predicted to have been written by Poe and the text was not written by Poe\"). These boxes have specific names designated to them, where the bottom left box is a \"false positive\" or \"Type 1 Error\" and the top right box is a \"false negative\" or \"Type 2 Error\". This is because the model falsely predicts a positive/Poe \"value\" in the bottom left box and falsely predicts negative/NotPoe \"value\" in the top right box."
   ]
  },
  {
   "cell_type": "code",
   "execution_count": 19,
   "id": "7accdea6",
   "metadata": {
    "scrolled": true
   },
   "outputs": [
    {
     "name": "stdout",
     "output_type": "stream",
     "text": [
      "              precision    recall  f1-score   support\n",
      "\n",
      "           2       1.00      1.00      1.00         1\n",
      "\n",
      "    accuracy                           1.00         1\n",
      "   macro avg       1.00      1.00      1.00         1\n",
      "weighted avg       1.00      1.00      1.00         1\n",
      "\n",
      "Confusion matrix, without normalization\n",
      "[[1 0]\n",
      " [0 0]]\n"
     ]
    },
    {
     "data": {
      "image/png": "[encoded data removed]",
      "text/plain": [
       "<Figure size 432x288 with 2 Axes>"
      ]
     },
     "metadata": {
      "needs_background": "light"
     },
     "output_type": "display_data"
    }
   ],
   "source": [
    "# Compute confusion matrix\n",
    "cnf_matrix = confusion_matrix(y_testset, yhat, labels=[2,1])\n",
    "np.set_printoptions(precision=2)\n",
    "\n",
    "print (classification_report(y_testset, yhat))\n",
    "\n",
    "# Plot non-normalized confusion matrix\n",
    "plt.figure()\n",
    "x_labels = pdf['class'].tolist()\n",
    "plt.xlabel(\"PREDICTED VALUE\")\n",
    "plt.ylabel(\"TRUE VALUE\")\n",
    "\n",
    "plot_confusion_matrix(cnf_matrix, classes=['Poe','NotPoe'],normalize= False,  title='Confusion matrix')"
   ]
  },
  {
   "cell_type": "markdown",
   "id": "ded5d573",
   "metadata": {},
   "source": [
    "# Analysis\n",
    "\n",
    "So how did our model work? Because we were working with a small testing set, our model is most likely overfit to our training data, but our model has predicted the author of the UNKNOWN text is Poe! Feel free to tinker around with the code, testing size, etc to see if you can prove authorship of other texts in the dataset!"
   ]
  }
 ],
 "metadata": {
  "kernelspec": {
   "display_name": "Python 3",
   "language": "python",
   "name": "python3"
  },
  "language_info": {
   "codemirror_mode": {
    "name": "ipython",
    "version": 3
   },
   "file_extension": ".py",
   "mimetype": "text/x-python",
   "name": "python",
   "nbconvert_exporter": "python",
   "pygments_lexer": "ipython3",
   "version": "3.8.8"
  }
 },
 "nbformat": 4,
 "nbformat_minor": 5
}
