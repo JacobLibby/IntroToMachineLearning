{
 "cells": [
  {
   "cell_type": "markdown",
   "id": "da585224",
   "metadata": {},
   "source": [
    "# Start by importing libraries"
   ]
  },
  {
   "cell_type": "code",
   "execution_count": 5,
   "id": "9551af41",
   "metadata": {},
   "outputs": [],
   "source": [
    "import random \n",
    "import numpy as np \n",
    "import matplotlib.pyplot as plt \n",
    "from sklearn.cluster import KMeans \n",
    "%matplotlib inline"
   ]
  },
  {
   "cell_type": "markdown",
   "id": "bb2a299f",
   "metadata": {},
   "source": [
    "# Import data"
   ]
  },
  {
   "cell_type": "code",
   "execution_count": 6,
   "id": "0804023b",
   "metadata": {},
   "outputs": [],
   "source": [
    "import csv\n",
    "import pandas as pd\n",
    "import numpy as np\n",
    "\n",
    "filename = \"iris.data\"\n",
    "\n",
    "# read csv\n",
    "pdf = pd.read_csv(filename, index_col=False)\n",
    "\n",
    "# create dataframe\n",
    "dataframe = pdf.to_numpy()\n",
    "pdf = pd.DataFrame(dataframe)\n",
    "pdf.rename(columns={0: 'sepal_length', 1: 'sepal_width', 2 : 'petal_length', 3 : 'petal_width', 4 : 'class'}, inplace=True)\n",
    "\n",
    "# create an array of features (X) and classes (y)\n",
    "X = pdf[['sepal_length', 'sepal_width', 'petal_length', 'petal_width']].values\n",
    "y = len(pdf['class'].unique())\n",
    "\n",
    "# create array of features\n",
    "features = pdf.columns\n",
    "\n",
    "# create array of classes\n",
    "classes = pdf['class'].unique()"
   ]
  },
  {
   "cell_type": "markdown",
   "id": "c821e766",
   "metadata": {},
   "source": [
    "# Modeling - generating variables"
   ]
  },
  {
   "cell_type": "code",
   "execution_count": 7,
   "id": "a09fdd25",
   "metadata": {},
   "outputs": [],
   "source": [
    "# create random seed\n",
    "np.random.seed(0)"
   ]
  },
  {
   "cell_type": "markdown",
   "id": "6498f747",
   "metadata": {},
   "source": [
    "# Model Clusters"
   ]
  },
  {
   "cell_type": "code",
   "execution_count": 8,
   "id": "32f588c0",
   "metadata": {},
   "outputs": [
    {
     "data": {
      "text/plain": [
       "<matplotlib.collections.PathCollection at 0x180b5c5b160>"
      ]
     },
     "execution_count": 8,
     "metadata": {},
     "output_type": "execute_result"
    },
    {
     "data": {
      "image/png": "[encoded data removed]",
      "text/plain": [
       "<Figure size 432x288 with 1 Axes>"
      ]
     },
     "metadata": {
      "needs_background": "light"
     },
     "output_type": "display_data"
    }
   ],
   "source": [
    "plt.scatter(X[:, 0], X[:, 1], marker='.')"
   ]
  },
  {
   "cell_type": "markdown",
   "id": "3da507fd",
   "metadata": {},
   "source": [
    "# Data Visualization"
   ]
  },
  {
   "cell_type": "code",
   "execution_count": 9,
   "id": "ba84f5c0",
   "metadata": {},
   "outputs": [
    {
     "data": {
      "text/plain": [
       "sepal_length    float64\n",
       "sepal_width     float64\n",
       "petal_length    float64\n",
       "petal_width     float64\n",
       "class             int32\n",
       "dtype: object"
      ]
     },
     "execution_count": 9,
     "metadata": {},
     "output_type": "execute_result"
    }
   ],
   "source": [
    "pdf[features[0]] = pdf[features[0]].astype('double')\n",
    "pdf[features[1]] = pdf[features[1]].astype('double')\n",
    "pdf[features[2]] = pdf[features[2]].astype('double')\n",
    "pdf[features[3]] = pdf[features[3]].astype('double')\n",
    "pdf.loc[pdf['class'] == 'Iris-setosa', 'class'] = 0\n",
    "pdf.loc[pdf['class'] == 'Iris-versicolor', 'class'] = 1\n",
    "pdf.loc[pdf['class'] == 'Iris-virginica', 'class'] = 2\n",
    "pdf['class'] = pdf['class'].astype('int')\n",
    "\n",
    "pdf.dtypes"
   ]
  },
  {
   "cell_type": "code",
   "execution_count": 10,
   "id": "358ab729",
   "metadata": {
    "scrolled": false
   },
   "outputs": [],
   "source": [
    "numberOfClusters = y # USER SET\n",
    "\n",
    "k_means = KMeans(init = \"k-means++\", n_clusters = numberOfClusters, n_init = 12)\n",
    "k_means.fit(X)\n",
    "k_means_labels = k_means.labels_\n",
    "#k_means_labels\n",
    "k_means_cluster_centers = k_means.cluster_centers_\n",
    "#k_means_cluster_centers"
   ]
  },
  {
   "cell_type": "code",
   "execution_count": 11,
   "id": "7f8f0bed",
   "metadata": {},
   "outputs": [
    {
     "data": {
      "image/png": "[encoded data removed]",
      "text/plain": [
       "<Figure size 720x720 with 1 Axes>"
      ]
     },
     "metadata": {
      "needs_background": "light"
     },
     "output_type": "display_data"
    }
   ],
   "source": [
    "k_means3 = KMeans(init = \"k-means++\", n_clusters = numberOfClusters, n_init = 40)\n",
    "k_means3.fit(X)\n",
    "fig = plt.figure(figsize=(10, 10))\n",
    "colors = plt.cm.Spectral(np.linspace(0, 1, len(set(k_means3.labels_))))\n",
    "ax = fig.add_subplot(1, 1, 1)\n",
    "for k, col in zip(range(len(k_means3.cluster_centers_)), colors):\n",
    "    my_members = (k_means3.labels_ == k)\n",
    "    cluster_center = k_means3.cluster_centers_[k]\n",
    "    ax.plot(X[my_members, 0], X[my_members, 1], 'w', markerfacecolor=col, marker='.', markersize=15)\n",
    "    ax.plot(cluster_center[0], cluster_center[1], 'o', markerfacecolor=col, markeredgecolor='k', markersize=10)\n",
    "plt.show()\n",
    "\n",
    "\n",
    "# label data points"
   ]
  },
  {
   "cell_type": "code",
   "execution_count": null,
   "id": "9c5b172a",
   "metadata": {},
   "outputs": [],
   "source": []
  },
  {
   "cell_type": "code",
   "execution_count": null,
   "id": "dfb1887c",
   "metadata": {},
   "outputs": [],
   "source": []
  },
  {
   "cell_type": "code",
   "execution_count": null,
   "id": "a597335d",
   "metadata": {},
   "outputs": [],
   "source": []
  },
  {
   "cell_type": "code",
   "execution_count": null,
   "id": "d16e03e9",
   "metadata": {},
   "outputs": [],
   "source": []
  },
  {
   "cell_type": "code",
   "execution_count": null,
   "id": "bd52b7fd",
   "metadata": {},
   "outputs": [],
   "source": []
  }
 ],
 "metadata": {
  "kernelspec": {
   "display_name": "Python 3",
   "language": "python",
   "name": "python3"
  },
  "language_info": {
   "codemirror_mode": {
    "name": "ipython",
    "version": 3
   },
   "file_extension": ".py",
   "mimetype": "text/x-python",
   "name": "python",
   "nbconvert_exporter": "python",
   "pygments_lexer": "ipython3",
   "version": "3.8.8"
  }
 },
 "nbformat": 4,
 "nbformat_minor": 5
}
